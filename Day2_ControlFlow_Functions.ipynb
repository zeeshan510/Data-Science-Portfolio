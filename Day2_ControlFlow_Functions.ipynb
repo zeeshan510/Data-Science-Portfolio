{
 "cells": [
  {
   "cell_type": "code",
   "execution_count": null,
   "id": "86057422-bfb6-406b-906c-2b4e31d1d918",
   "metadata": {},
   "outputs": [],
   "source": [
    "# Loops in Python\n",
    "# Loops in python is used to run a block of code repeatedly\n",
    "# again and again until the condition satisfied\n",
    "# there are two types of loops\n",
    "# 1) For loop\n",
    "# 2) While loop"
   ]
  },
  {
   "cell_type": "code",
   "execution_count": null,
   "id": "35223d34-6499-41d4-bad8-3e6605b0d57d",
   "metadata": {},
   "outputs": [],
   "source": [
    "fruits =[]\n",
    "fruits.append(\"Apple\")\n",
    "fruits.append(\"Banana\")\n",
    "fruits.append(\"Mango\")\n",
    "fruits.append(\"Pineapple\")\n",
    "fruits.append(\"Kiwi\")\n",
    "print(fruits)"
   ]
  },
  {
   "cell_type": "code",
   "execution_count": null,
   "id": "6751631e-d150-4bd2-8c97-935ab304ba2e",
   "metadata": {},
   "outputs": [],
   "source": [
    "#example of for loop\n",
    "fruits = []\n",
    "#range method used to get the of numbers.\n",
    "for i in range(1,6):\n",
    "    frt = input(\"Enter fruit name:\")\n",
    "    fruits.append(frt)\n",
    "    print(fruits)"
   ]
  },
  {
   "cell_type": "code",
   "execution_count": null,
   "id": "e5afe704-75a2-411b-9d09-2e7fde89de50",
   "metadata": {},
   "outputs": [],
   "source": [
    "#now the new code\n",
    "for i in range(1,11):\n",
    "    print(i)"
   ]
  },
  {
   "cell_type": "code",
   "execution_count": null,
   "id": "5f7b90c6-0544-4aa6-8b67-19cac20d91a3",
   "metadata": {},
   "outputs": [],
   "source": [
    "print(\"Python is a Programming Language!\")\n",
    "print(\"Python is a Programming Language!\")\n",
    "print(\"Python is a Programming Language!\")\n",
    "print(\"Python is a Programming Language!\")\n",
    "print(\"Python is a Programming Language!\")"
   ]
  },
  {
   "cell_type": "code",
   "execution_count": null,
   "id": "172014e3-a2de-4380-91ba-efa6473871be",
   "metadata": {},
   "outputs": [],
   "source": [
    "for i in range(1,6):\n",
    "    print(\"Python is a Programming Language!\")"
   ]
  },
  {
   "cell_type": "code",
   "execution_count": null,
   "id": "43480c09-2d97-4ef6-9ee9-6d50deb73d3e",
   "metadata": {},
   "outputs": [],
   "source": [
    "for i in range(1,6):\n",
    "    print(\"Inside the loop\")\n",
    "print(\"outside the loop\")"
   ]
  },
  {
   "cell_type": "code",
   "execution_count": null,
   "id": "1496c446-7af5-4791-8a6b-77c61a7e0d1f",
   "metadata": {},
   "outputs": [],
   "source": [
    "fruits=[\"kiwi, grapes, apple, orange, banana\"]"
   ]
  },
  {
   "cell_type": "code",
   "execution_count": null,
   "id": "49c1c0aa-04e8-42ef-8998-d737b064983e",
   "metadata": {},
   "outputs": [],
   "source": [
    "fruits.upper()"
   ]
  },
  {
   "cell_type": "code",
   "execution_count": null,
   "id": "6d48bcdc-e235-4754-9170-f0f96a41e7bd",
   "metadata": {},
   "outputs": [],
   "source": [
    "for i in fruits:\n",
    "    print(i)"
   ]
  },
  {
   "cell_type": "code",
   "execution_count": null,
   "id": "2454711a-ba0a-4ee5-bad0-d42b5919be21",
   "metadata": {},
   "outputs": [],
   "source": [
    "for i in fruits:\n",
    "    print(i.upper())"
   ]
  },
  {
   "cell_type": "code",
   "execution_count": null,
   "id": "06b742cb-d7a3-49ae-9086-2f63653b7dca",
   "metadata": {},
   "outputs": [],
   "source": [
    "print(fruits[0].upper())"
   ]
  },
  {
   "cell_type": "code",
   "execution_count": null,
   "id": "5cd7c0b2-df99-416a-8a16-0d4a4ddbd569",
   "metadata": {},
   "outputs": [],
   "source": [
    "#create a table program\n",
    "num= int(input(\"Enter the number:\"))\n",
    "for i in range(1,11):\n",
    "    print(num,\"x\",i,\"=\",num*i)"
   ]
  },
  {
   "cell_type": "code",
   "execution_count": null,
   "id": "701b1442-27ea-4722-968b-b991dcad6fdb",
   "metadata": {},
   "outputs": [],
   "source": [
    "age =[]"
   ]
  },
  {
   "cell_type": "raw",
   "id": "73739e2f-1b4c-40e6-9728-d0745fcddc8d",
   "metadata": {},
   "source": [
    "for i in range(1,11):\n",
    "    val = int(input(\"Enter the age:\"))\n",
    "    age.append(val)\n",
    "    print(age)"
   ]
  },
  {
   "cell_type": "code",
   "execution_count": null,
   "id": "99d0ddc1-c301-4b54-a980-c01a6a319de8",
   "metadata": {},
   "outputs": [],
   "source": [
    "print(age)"
   ]
  },
  {
   "cell_type": "code",
   "execution_count": null,
   "id": "86fcc5dc-098a-48a8-b2d4-9edc5f287fc0",
   "metadata": {},
   "outputs": [],
   "source": [
    "age.sort()\n",
    "print(age)"
   ]
  },
  {
   "cell_type": "code",
   "execution_count": null,
   "id": "814c84fa-b127-4f93-8f20-3c6eb82dcd1b",
   "metadata": {},
   "outputs": [],
   "source": [
    "#formula of average\n",
    "#sun of observation/ number of observaion\n",
    "numofage = len(age)\n",
    "print(numofage)"
   ]
  },
  {
   "cell_type": "code",
   "execution_count": null,
   "id": "f1f8fd7b-50d3-42ab-b7f4-6cc8f355ba5d",
   "metadata": {},
   "outputs": [],
   "source": [
    "age=[10,21,32,42,1,23,44,22]"
   ]
  },
  {
   "cell_type": "code",
   "execution_count": null,
   "id": "af6f63a9-65b6-4425-a86f-a0906d35c475",
   "metadata": {},
   "outputs": [],
   "source": [
    "total=sum(age)\n",
    "print(total)"
   ]
  },
  {
   "cell_type": "code",
   "execution_count": null,
   "id": "866ecf7e-b2f1-4f74-9133-05ec505867f9",
   "metadata": {},
   "outputs": [],
   "source": [
    "#avg\n",
    "avg= sum(age)/len(age)\n",
    "print(\"Average\",avg)"
   ]
  },
  {
   "cell_type": "code",
   "execution_count": null,
   "id": "c341d4d5-0e47-405a-97a3-6c767647c401",
   "metadata": {},
   "outputs": [],
   "source": [
    "#round the avg age\n",
    "avg=sum(age)/len(age)\n",
    "Round_avg=round(avg,1)\n",
    "print(\"Rounded Average\",Round_avg)"
   ]
  },
  {
   "cell_type": "code",
   "execution_count": null,
   "id": "73a9b658-a64c-48d7-91b7-4a3bda99db12",
   "metadata": {},
   "outputs": [],
   "source": [
    "prices = [2.3,4.5,5.5,12.4,34.5,23.6]"
   ]
  },
  {
   "cell_type": "code",
   "execution_count": null,
   "id": "6d6e9a25-7498-4a24-91f3-137a503b137a",
   "metadata": {},
   "outputs": [],
   "source": [
    "for i in prices:\n",
    "    print(\"Old price--------\",i,\"New price------\",i+100)"
   ]
  },
  {
   "cell_type": "code",
   "execution_count": null,
   "id": "059eb4e6-2831-4c7f-a822-0adeb18fc2d8",
   "metadata": {},
   "outputs": [],
   "source": [
    "print(prices)"
   ]
  },
  {
   "cell_type": "code",
   "execution_count": null,
   "id": "cfe3329e-f6cf-49e5-b955-1e00cc317e48",
   "metadata": {},
   "outputs": [],
   "source": [
    "new_prices =[]\n",
    "for i in prices:\n",
    "    new_prices.append(i+10)\n",
    "    print(prices)\n",
    "    print(new_prices)"
   ]
  },
  {
   "cell_type": "code",
   "execution_count": null,
   "id": "13a72f94-4e05-4243-a3ee-a87580d2e978",
   "metadata": {},
   "outputs": [],
   "source": [
    "new_prices.sort(reverse=False)\n",
    "print(new_prices)"
   ]
  },
  {
   "cell_type": "code",
   "execution_count": null,
   "id": "3a0f56e7-c129-467e-8c30-faf9c3f1e204",
   "metadata": {},
   "outputs": [],
   "source": [
    "# Conditional Statement in Python\n",
    "\n",
    "# Conditional Stantement in python is used to perfrom specific task based on conditions\n",
    "\n",
    "# there are three types of Conditional Statements\n",
    "# 1) If ---- IT used to perfrom the Conditional Statement in python\n",
    "# 2) Elif--- It used to pefrom multiple conditional Statements\n",
    "# 3) Else--- It pefrom if or elif condition won't satisfied"
   ]
  },
  {
   "cell_type": "code",
   "execution_count": null,
   "id": "8f237156-420a-4725-93f0-816c5d7eda05",
   "metadata": {},
   "outputs": [],
   "source": [
    "if 100 == 100:\n",
    "    print(\"Yes 100 is not equals to 100\")"
   ]
  },
  {
   "cell_type": "code",
   "execution_count": null,
   "id": "8e2b6079-2057-4d44-b456-4a2d983b2707",
   "metadata": {},
   "outputs": [],
   "source": [
    "if 100!=100:\n",
    "    print(\"Yes 100 is not equals to 100\")"
   ]
  },
  {
   "cell_type": "code",
   "execution_count": null,
   "id": "d68db677-228b-47a9-b082-ea8584db33b3",
   "metadata": {},
   "outputs": [],
   "source": [
    "#program\n",
    "num1 = int(input(\"Enter number:\"))\n",
    "num2 = int(input(\"Enter number:\"))\n",
    "\n",
    "if num1 == num2:\n",
    "    print(num1+num2)\n",
    "elif num1 != num2:\n",
    "    print(num1+ num2)\n"
   ]
  },
  {
   "cell_type": "code",
   "execution_count": null,
   "id": "bee84da9-9ec4-445c-891c-8f2501c78ed6",
   "metadata": {},
   "outputs": [],
   "source": [
    "# Furit List\n",
    "fruits = [\"Banana\",'Orange',\"Pineapple\",'Mango','Apple',\"Kiwi\"]"
   ]
  },
  {
   "cell_type": "code",
   "execution_count": null,
   "id": "7854a61e-313f-4140-8727-58ad65da3695",
   "metadata": {},
   "outputs": [],
   "source": [
    "\"Banana\" in fruits"
   ]
  },
  {
   "cell_type": "code",
   "execution_count": null,
   "id": "fc8d9303-bb82-4ac4-ac1d-fe4d54695750",
   "metadata": {},
   "outputs": [],
   "source": [
    "\"Strawberry\" in fruits"
   ]
  },
  {
   "cell_type": "code",
   "execution_count": null,
   "id": "67547bba-f82e-428a-b560-8c60b798df3b",
   "metadata": {},
   "outputs": [],
   "source": [
    "# Creating a program to find the value which is provided by the user is available or not\n",
    "frt = input(\"Enter fruit name:\")\n",
    "if f\"{frt}\" in fruits:\n",
    "    print(f\"{frt}) is in stock\")\n",
    "else:\n",
    "    print(f\"{frt}) not in stock\")"
   ]
  },
  {
   "cell_type": "code",
   "execution_count": null,
   "id": "37f0bd3b-ad8f-43e6-a471-07493c061272",
   "metadata": {},
   "outputs": [],
   "source": [
    "for i in range(1,6):\n",
    "    print(i)"
   ]
  },
  {
   "cell_type": "code",
   "execution_count": 4,
   "id": "c07398ec-1d58-4de2-be4e-e12fb7aeefab",
   "metadata": {},
   "outputs": [],
   "source": [
    "for i in range(1,1001):\n",
    "    if i == 10:\n",
    "        break\n",
    "        print(i)"
   ]
  },
  {
   "cell_type": "code",
   "execution_count": 7,
   "id": "a6cee530-62de-4a06-a5a3-9d3eb3f4bb53",
   "metadata": {},
   "outputs": [
    {
     "name": "stdin",
     "output_type": "stream",
     "text": [
      "Enter Name: rahman\n",
      "Enter Name: zeeshan\n",
      "Enter Name: junaid\n",
      "Enter Name: faizan\n",
      "Enter Name: adnan\n",
      "Enter Name: stop\n"
     ]
    },
    {
     "name": "stdout",
     "output_type": "stream",
     "text": [
      "['rahman', 'zeeshan', 'junaid', 'faizan', 'adnan']\n"
     ]
    }
   ],
   "source": [
    "#creating a program to enter 100 values\n",
    "names = []\n",
    "\n",
    "for i in range(1,1001):\n",
    "    user = input(\"Enter Name:\")\n",
    "    if user == 'stop':\n",
    "       break\n",
    "    names.append(user)\n",
    "print(names)\n",
    "    "
   ]
  },
  {
   "cell_type": "code",
   "execution_count": 8,
   "id": "e301aacf-d76a-47ab-b5a6-35046c98b02e",
   "metadata": {},
   "outputs": [
    {
     "name": "stdout",
     "output_type": "stream",
     "text": [
      "Even numbers from 2 to 100:\n",
      "[2, 4, 6, 8, 10, 12, 14, 16, 18, 20, 22, 24, 26, 28, 30, 32, 34, 36, 38, 40, 42, 44, 46, 48, 50, 52, 54, 56, 58, 60, 62, 64, 66, 68, 70, 72, 74, 76, 78, 80, 82, 84, 86, 88, 90, 92, 94, 96, 98, 100]\n"
     ]
    }
   ],
   "source": [
    "#create a program to store even numbers from 2 to 100 in a list\n",
    "#create a program to find out wheather the number is even or odd\n",
    "\n",
    "# store even numbers from 2 to 100\n",
    "even_numbers = [num for num in range(2, 101) if num % 2 == 0]\n",
    "\n",
    "print(\"Even numbers from 2 to 100:\")\n",
    "print(even_numbers)"
   ]
  },
  {
   "cell_type": "code",
   "execution_count": 10,
   "id": "fc6612df-978e-4f77-b3ad-3354c295aaae",
   "metadata": {},
   "outputs": [
    {
     "name": "stdin",
     "output_type": "stream",
     "text": [
      "Enter a number:  2\n"
     ]
    },
    {
     "name": "stdout",
     "output_type": "stream",
     "text": [
      "2 is Even\n"
     ]
    }
   ],
   "source": [
    "# check if a number is even or odd\n",
    "num = int(input(\"Enter a number: \"))\n",
    "\n",
    "if num % 2 == 0:\n",
    "    print(num, \"is Even\")\n",
    "else:\n",
    "    print(num, \"is Odd\")\n"
   ]
  },
  {
   "cell_type": "code",
   "execution_count": 11,
   "id": "ace2cf7c-cca9-4662-986a-bc2e4ba1261f",
   "metadata": {},
   "outputs": [],
   "source": [
    "# Function in Python\n",
    "# There Are two types of functions in python\n",
    "# 1) Inbuilt Functions ---- print, len, type, input, str, int, float, bool Etc.\n",
    "# 2) User Defined Function"
   ]
  },
  {
   "cell_type": "code",
   "execution_count": 12,
   "id": "68a2fe64-4e12-4900-8876-d7c0e3cb3a02",
   "metadata": {},
   "outputs": [],
   "source": [
    "# User Defined Function\n",
    "# The Function which is created by a User is called UDF.\n",
    "# UDF is used to organize the code or program\n",
    "\n",
    "# def keyword is used to create UDF.\n",
    "#  Syntax to Create a UDF\n",
    "# def function_name(arg1,arg2,arg3....):\n",
    "#     block of code"
   ]
  },
  {
   "cell_type": "code",
   "execution_count": 13,
   "id": "ddf39cb8-6c84-4a05-af32-5e230424885a",
   "metadata": {},
   "outputs": [],
   "source": [
    "# Creating a function Called greet to get the output as hello world\n",
    "def greet():\n",
    "    return \"Hello World!\""
   ]
  },
  {
   "cell_type": "code",
   "execution_count": 14,
   "id": "2357d74e-e8cc-4c27-964a-9014a7e37cfa",
   "metadata": {},
   "outputs": [
    {
     "data": {
      "text/plain": [
       "'Hello World!'"
      ]
     },
     "execution_count": 14,
     "metadata": {},
     "output_type": "execute_result"
    }
   ],
   "source": [
    "greet()"
   ]
  },
  {
   "cell_type": "code",
   "execution_count": 18,
   "id": "230fa02e-3d27-4006-bd80-4c80d4c8d0e9",
   "metadata": {},
   "outputs": [],
   "source": [
    "#passing an argument\n",
    "def greet_with_name(Name):\n",
    "    return f\"Hello {Name}!\""
   ]
  },
  {
   "cell_type": "code",
   "execution_count": 19,
   "id": "715191bd-bfad-4a6c-a294-57d739383980",
   "metadata": {},
   "outputs": [
    {
     "data": {
      "text/plain": [
       "'Hello Zeeshan!'"
      ]
     },
     "execution_count": 19,
     "metadata": {},
     "output_type": "execute_result"
    }
   ],
   "source": [
    "greet_with_name(\"Zeeshan\")"
   ]
  },
  {
   "cell_type": "code",
   "execution_count": 20,
   "id": "e5740be2-fd7b-4010-b023-c77de5f1d92f",
   "metadata": {},
   "outputs": [],
   "source": [
    "#creating a function to mutiple two values\n",
    "def product(x,y):\n",
    "    result = x*y\n",
    "    return f\"The product of two values: {result}\""
   ]
  },
  {
   "cell_type": "code",
   "execution_count": 21,
   "id": "65fa6deb-496c-4ac4-a22d-c7cbbaa36f7e",
   "metadata": {},
   "outputs": [
    {
     "data": {
      "text/plain": [
       "'The product of two values: 500'"
      ]
     },
     "execution_count": 21,
     "metadata": {},
     "output_type": "execute_result"
    }
   ],
   "source": [
    "product(100,5)"
   ]
  },
  {
   "cell_type": "code",
   "execution_count": 22,
   "id": "9b58e16c-07f8-498c-9fc6-1bfdea58d0e8",
   "metadata": {},
   "outputs": [
    {
     "data": {
      "text/plain": [
       "'The product of two values: 100'"
      ]
     },
     "execution_count": 22,
     "metadata": {},
     "output_type": "execute_result"
    }
   ],
   "source": [
    "product(10,10)"
   ]
  },
  {
   "cell_type": "code",
   "execution_count": 23,
   "id": "70d23fce-0bca-4173-b5f4-6169127bba59",
   "metadata": {},
   "outputs": [],
   "source": [
    "#creating a function to sumup the values\n",
    "def sumup(*numbers):\n",
    "    result = 0\n",
    "    for i in numbers:\n",
    "        result += i\n",
    "    return result"
   ]
  },
  {
   "cell_type": "code",
   "execution_count": 24,
   "id": "13f6cc91-d74b-4456-9e38-17b4b37d37fc",
   "metadata": {},
   "outputs": [
    {
     "data": {
      "text/plain": [
       "300"
      ]
     },
     "execution_count": 24,
     "metadata": {},
     "output_type": "execute_result"
    }
   ],
   "source": [
    "sumup(100,200)"
   ]
  },
  {
   "cell_type": "code",
   "execution_count": 25,
   "id": "bbc7a23a-33a2-47d1-b146-eb5791657dc1",
   "metadata": {},
   "outputs": [
    {
     "data": {
      "text/plain": [
       "105"
      ]
     },
     "execution_count": 25,
     "metadata": {},
     "output_type": "execute_result"
    }
   ],
   "source": [
    "sumup(100,5)"
   ]
  },
  {
   "cell_type": "code",
   "execution_count": 26,
   "id": "5e6f22fa-e59d-4d60-b200-36b9edf35bfa",
   "metadata": {},
   "outputs": [
    {
     "data": {
      "text/plain": [
       "501"
      ]
     },
     "execution_count": 26,
     "metadata": {},
     "output_type": "execute_result"
    }
   ],
   "source": [
    "sumup(100,200,25,78,98)"
   ]
  },
  {
   "cell_type": "code",
   "execution_count": 27,
   "id": "69eaa1e7-c61c-4a25-86f0-fb56fbee9608",
   "metadata": {},
   "outputs": [],
   "source": [
    "tzid = [101,102,103,104,105]\n",
    "tzname = ['rahman','junaid','saif','adnan','siddiq']\n",
    "tzcourse=['DA','DS','DM','DS','DM']"
   ]
  },
  {
   "cell_type": "code",
   "execution_count": 28,
   "id": "cf145cc6-3d75-4973-88c5-c92e12d9c826",
   "metadata": {},
   "outputs": [
    {
     "name": "stdout",
     "output_type": "stream",
     "text": [
      "101\n",
      "102\n",
      "103\n",
      "104\n",
      "105\n"
     ]
    }
   ],
   "source": [
    "for i in tzid:\n",
    "    print(i)"
   ]
  },
  {
   "cell_type": "code",
   "execution_count": 29,
   "id": "28834130-f097-4bbf-bdfd-3f87a919ca7b",
   "metadata": {},
   "outputs": [
    {
     "name": "stdout",
     "output_type": "stream",
     "text": [
      "rahman\n",
      "junaid\n",
      "saif\n",
      "adnan\n",
      "siddiq\n"
     ]
    }
   ],
   "source": [
    "for i in tzname:\n",
    "    print(i)"
   ]
  },
  {
   "cell_type": "code",
   "execution_count": 30,
   "id": "1d953f2a-f05f-49a6-aa55-d6f9ca6be75e",
   "metadata": {},
   "outputs": [
    {
     "name": "stdout",
     "output_type": "stream",
     "text": [
      "DA\n",
      "DS\n",
      "DM\n",
      "DS\n",
      "DM\n"
     ]
    }
   ],
   "source": [
    "for i in tzcourse:\n",
    "    print(i)"
   ]
  },
  {
   "cell_type": "code",
   "execution_count": 31,
   "id": "2dc9cb23-b025-4ed2-bf3a-30d7892298a1",
   "metadata": {},
   "outputs": [],
   "source": [
    "#creating a function to iterate the values of lists\n",
    "def iterate(any_list):\n",
    "    for i in any_list:\n",
    "        print(i)"
   ]
  },
  {
   "cell_type": "code",
   "execution_count": 32,
   "id": "d240d84a-0155-4998-9225-57bca9cc4625",
   "metadata": {},
   "outputs": [
    {
     "data": {
      "text/plain": [
       "['rahman', 'junaid', 'saif', 'adnan', 'siddiq']"
      ]
     },
     "execution_count": 32,
     "metadata": {},
     "output_type": "execute_result"
    }
   ],
   "source": [
    "tzname"
   ]
  },
  {
   "cell_type": "code",
   "execution_count": 33,
   "id": "6131979a-58d2-4e44-970c-b27095b3ecc0",
   "metadata": {},
   "outputs": [
    {
     "name": "stdout",
     "output_type": "stream",
     "text": [
      "rahman\n",
      "junaid\n",
      "saif\n",
      "adnan\n",
      "siddiq\n"
     ]
    }
   ],
   "source": [
    "iterate(tzname)"
   ]
  },
  {
   "cell_type": "code",
   "execution_count": 34,
   "id": "7ff4d8a5-6f9d-43a7-95c7-d23cece3f3c9",
   "metadata": {},
   "outputs": [
    {
     "data": {
      "text/plain": [
       "[101, 102, 103, 104, 105]"
      ]
     },
     "execution_count": 34,
     "metadata": {},
     "output_type": "execute_result"
    }
   ],
   "source": [
    "tzid"
   ]
  },
  {
   "cell_type": "code",
   "execution_count": 35,
   "id": "5732099b-2eb8-410c-bba0-e9a6b880d64d",
   "metadata": {},
   "outputs": [
    {
     "name": "stdout",
     "output_type": "stream",
     "text": [
      "101\n",
      "102\n",
      "103\n",
      "104\n",
      "105\n"
     ]
    }
   ],
   "source": [
    "iterate(tzid)"
   ]
  },
  {
   "cell_type": "code",
   "execution_count": 36,
   "id": "94d579fb-4e75-4978-97ff-b354958ce618",
   "metadata": {},
   "outputs": [
    {
     "name": "stdout",
     "output_type": "stream",
     "text": [
      "DA\n",
      "DS\n",
      "DM\n",
      "DS\n",
      "DM\n"
     ]
    }
   ],
   "source": [
    "iterate(tzcourse)"
   ]
  },
  {
   "cell_type": "code",
   "execution_count": 37,
   "id": "9779119c-ea76-46bd-a1d1-da40a0c30cbb",
   "metadata": {},
   "outputs": [
    {
     "data": {
      "text/plain": [
       "['DA', 'DS', 'DM', 'DS', 'DM']"
      ]
     },
     "execution_count": 37,
     "metadata": {},
     "output_type": "execute_result"
    }
   ],
   "source": [
    "tzcourse"
   ]
  },
  {
   "cell_type": "code",
   "execution_count": 38,
   "id": "6df3416e-192a-45a0-a015-52e5fd53391d",
   "metadata": {},
   "outputs": [],
   "source": [
    "#creating a nested dictonary\n",
    "bio ={\n",
    "    \"ID\":tzid,\n",
    "    \"Name\":tzname,\n",
    "    \"Course\":tzcourse\n",
    "}"
   ]
  },
  {
   "cell_type": "code",
   "execution_count": 39,
   "id": "739f19a5-4873-4d71-abff-de7a700d010a",
   "metadata": {},
   "outputs": [
    {
     "name": "stdout",
     "output_type": "stream",
     "text": [
      "{'ID': [101, 102, 103, 104, 105], 'Name': ['rahman', 'junaid', 'saif', 'adnan', 'siddiq'], 'Course': ['DA', 'DS', 'DM', 'DS', 'DM']}\n"
     ]
    }
   ],
   "source": [
    "print(bio)"
   ]
  },
  {
   "cell_type": "code",
   "execution_count": 40,
   "id": "346fe3d9-0dd7-4990-8d3d-4ae909816906",
   "metadata": {},
   "outputs": [
    {
     "name": "stdin",
     "output_type": "stream",
     "text": [
      "Enter ID: 106\n",
      "Enter Name: Zeeshan\n",
      "Enter Course: DA\n",
      "Enter ID: 107\n",
      "Enter Name: Sameer\n",
      "Enter Course: DA\n",
      "Enter ID: 0\n"
     ]
    },
    {
     "name": "stdout",
     "output_type": "stream",
     "text": [
      "{'ID': [101, 102, 103, 104, 105, 106, 107], 'Name': ['rahman', 'junaid', 'saif', 'adnan', 'siddiq', 'Zeeshan', 'Sameer'], 'Course': ['DA', 'DS', 'DM', 'DS', 'DM', 'DA', 'DA']}\n"
     ]
    }
   ],
   "source": [
    "for i in range(1,1001):\n",
    "    user_id = int(input(\"Enter ID:\"))\n",
    "    if user_id == 0:\n",
    "        break\n",
    "    user_name = input(\"Enter Name:\")\n",
    "    user_course = input(\"Enter Course:\")\n",
    "\n",
    "    bio.get(\"ID\").append(user_id)\n",
    "    bio.get(\"Name\").append(user_name)\n",
    "    bio.get(\"Course\").append(user_course)\n",
    "print(bio)"
   ]
  },
  {
   "cell_type": "code",
   "execution_count": 41,
   "id": "db26e587-24cc-49ee-acdf-d202fae73af8",
   "metadata": {},
   "outputs": [
    {
     "data": {
      "text/plain": [
       "list"
      ]
     },
     "execution_count": 41,
     "metadata": {},
     "output_type": "execute_result"
    }
   ],
   "source": [
    "type(bio.get(\"ID\"))"
   ]
  },
  {
   "cell_type": "code",
   "execution_count": 42,
   "id": "091744ca-05f4-4b48-8ba1-c1dbd3e651c6",
   "metadata": {},
   "outputs": [
    {
     "data": {
      "text/plain": [
       "dict"
      ]
     },
     "execution_count": 42,
     "metadata": {},
     "output_type": "execute_result"
    }
   ],
   "source": [
    "type(bio)"
   ]
  },
  {
   "cell_type": "code",
   "execution_count": 43,
   "id": "a56a0923-e0b6-4f4d-808b-56c049c92140",
   "metadata": {},
   "outputs": [],
   "source": [
    "# Create a function which gives the out put as sqrt of any number\n",
    "import math\n",
    "\n",
    "def find_sqrt(num):\n",
    "    return math.sqrt(num)"
   ]
  },
  {
   "cell_type": "code",
   "execution_count": 44,
   "id": "0c360bfb-6cf5-4cba-8f8d-8536598fea6f",
   "metadata": {},
   "outputs": [
    {
     "name": "stdout",
     "output_type": "stream",
     "text": [
      "5.0\n"
     ]
    }
   ],
   "source": [
    "print(find_sqrt(25))"
   ]
  },
  {
   "cell_type": "code",
   "execution_count": 45,
   "id": "799c485a-4097-4c0f-818b-6895609e96d8",
   "metadata": {},
   "outputs": [
    {
     "name": "stdout",
     "output_type": "stream",
     "text": [
      "4.0\n"
     ]
    }
   ],
   "source": [
    "print(find_sqrt(16))"
   ]
  },
  {
   "cell_type": "code",
   "execution_count": 46,
   "id": "9c66bba7-2723-43c6-939b-490f1594e52c",
   "metadata": {},
   "outputs": [],
   "source": [
    "# Creating Function Which give Sqrt output of a multiple values\n",
    "numbers = [4,9,16,25,64,144]\n",
    "sqrt_num =[]\n",
    "\n",
    "def mul_sqrt(sqrt_list):\n",
    "    for i in sqrt_list:\n",
    "        st = i** 0.5\n",
    "        sqrt_num.append(st)"
   ]
  },
  {
   "cell_type": "code",
   "execution_count": 47,
   "id": "513a389a-fab6-4b49-9a3c-32e8867295b9",
   "metadata": {},
   "outputs": [
    {
     "name": "stdout",
     "output_type": "stream",
     "text": [
      "[2.0, 3.0, 4.0, 5.0, 8.0, 12.0]\n"
     ]
    }
   ],
   "source": [
    "mul_sqrt(numbers)\n",
    "print(sqrt_num)"
   ]
  },
  {
   "cell_type": "code",
   "execution_count": 48,
   "id": "4c6cbd9e-1be7-448a-8be7-160c7dbd2221",
   "metadata": {},
   "outputs": [
    {
     "name": "stdout",
     "output_type": "stream",
     "text": [
      "2.0\n",
      "3.0\n",
      "4.0\n",
      "5.0\n",
      "8.0\n",
      "12.0\n"
     ]
    }
   ],
   "source": [
    "for i in sqrt_num:\n",
    "    print(i)"
   ]
  },
  {
   "cell_type": "code",
   "execution_count": 49,
   "id": "7bbc0a4f-2632-4e31-a9d5-474fd85dab35",
   "metadata": {},
   "outputs": [],
   "source": [
    "# File Handling In Python\n",
    "\n",
    "# File handling in python is used to manipulate file\n",
    "# Open method of python is used to manipulate file\n",
    "# Mostly file handling is used in Web developement\n",
    "# Open method takes two arguments\n",
    "# 1) file_name.txt\n",
    "# 2) Mode of the file (Read, Append, Create, OverWrite)\n",
    "\n",
    "# Read Mode ----- r ------ It is used to read the file content.\n",
    "# Create Mode --- x ------ It is used to create an Empty File.\n",
    "# Append Mode --- a ------ It is used to add content in a File.\n",
    "# OverWrite Mode - w ------ It is used to overwrite the File content.\n",
    "\n",
    "# Syntax\n",
    "# open(\"FileName.txt\",\"mode\")"
   ]
  },
  {
   "cell_type": "code",
   "execution_count": 50,
   "id": "55bd7c14-3bed-414c-9fab-2f5da45b2bd1",
   "metadata": {},
   "outputs": [],
   "source": [
    "#to create a new file\n",
    "create = open(\"SQL.txt\",'x')\n",
    "create.close()"
   ]
  },
  {
   "cell_type": "code",
   "execution_count": 51,
   "id": "c3ed8ed9-2229-4e39-bd83-c6fa870ceb71",
   "metadata": {},
   "outputs": [],
   "source": [
    "#to add the file content\n",
    "add = open(\"SQL.txt\",'a')\n",
    "add.write(\"SQL stands for Structured Query Language Which is used to manipulate the data of RDBMS\")\n",
    "add.close()\n"
   ]
  },
  {
   "cell_type": "code",
   "execution_count": 52,
   "id": "d6e91f13-d955-4df0-bc2b-e12ca5508c9c",
   "metadata": {},
   "outputs": [
    {
     "name": "stdout",
     "output_type": "stream",
     "text": [
      "SQL stands for Structured Query Language Which is used to manipulate the data of RDBMS\n"
     ]
    }
   ],
   "source": [
    "#to read a file content\n",
    "view = open(\"SQL.txt\",'r')\n",
    "print(view.read())\n",
    "view.close()"
   ]
  },
  {
   "cell_type": "code",
   "execution_count": 54,
   "id": "10dae03d-bb16-4a9d-b1ff-d9e1be8aa5e2",
   "metadata": {},
   "outputs": [],
   "source": [
    "#to overwrite the file content\n",
    "update = open(\"SQL.txt\",'w')\n",
    "update.write(\"Hello SQl!\")\n",
    "update.close()"
   ]
  },
  {
   "cell_type": "code",
   "execution_count": 55,
   "id": "fc390ac2-cdc1-4091-b05a-b27680efdb8e",
   "metadata": {},
   "outputs": [
    {
     "name": "stdout",
     "output_type": "stream",
     "text": [
      "Hello SQl!\n"
     ]
    }
   ],
   "source": [
    "view= open(\"SQL.txt\",'r')\n",
    "print(view.read())\n",
    "view.close()"
   ]
  },
  {
   "cell_type": "code",
   "execution_count": 56,
   "id": "93f31b6c-652c-4e1a-b1d8-36f87e8105a5",
   "metadata": {},
   "outputs": [],
   "source": [
    "# Creating a function to add a new file, enter content and read the file\n",
    "def file(file_name,file_content):\n",
    "    create = open(file_name,'x')\n",
    "    create.close()\n",
    "\n",
    "    content = open(file_name,'a')\n",
    "    content.write(file_content)\n",
    "    content.close()\n",
    "\n",
    "    view = open(file_name,'r')\n",
    "    print(view.read())\n",
    "    view.close()"
   ]
  },
  {
   "cell_type": "code",
   "execution_count": 57,
   "id": "27f95f5c-5528-4141-90bf-3e62213e09e1",
   "metadata": {},
   "outputs": [
    {
     "name": "stdout",
     "output_type": "stream",
     "text": [
      "PowerBi is a data visualisation Tool!\n"
     ]
    }
   ],
   "source": [
    "file(\"PowerBi.txt\", \"PowerBi is a data visualisation Tool!\")"
   ]
  },
  {
   "cell_type": "code",
   "execution_count": 61,
   "id": "f77d0544-181a-463d-8b86-5ee26febf2a2",
   "metadata": {},
   "outputs": [
    {
     "name": "stdout",
     "output_type": "stream",
     "text": [
      "Excel is an Electronic Spreadsheet Program\n"
     ]
    }
   ],
   "source": [
    "file(\"Excel.txt\", \"Excel is an Electronic Spreadsheet Program\")"
   ]
  },
  {
   "cell_type": "code",
   "execution_count": 62,
   "id": "75a2dc8f-a531-4b85-b3fe-a393d0528fe9",
   "metadata": {},
   "outputs": [],
   "source": [
    "# open method doesnot have delete function to remove a file \n",
    "\n",
    "# What is Library?\n",
    "# Libraries in python is a Pre Written code \n",
    "# Which helps user to create a program in an easier manner.\n",
    "# libraris are collection of functions and modules\n",
    "# Types of Libraries\n",
    "# 1) OS\n",
    "# 2) Math\n",
    "# 3) datetime\n",
    "# 4) Random\n",
    "# 5) Pandas\n",
    "# 6) Matplotlib\n",
    "# 7) Seaborn\n",
    "# 8) BeautifulSoup\n",
    "# 9) Requests\n",
    "# 10) PyMySQL\n",
    "# 11) Textbolb\n",
    "# 12) PandasAI\n",
    "# 13) RegExp"
   ]
  },
  {
   "cell_type": "code",
   "execution_count": 64,
   "id": "24d6faeb-f858-4687-8d2c-d8441cb4238e",
   "metadata": {},
   "outputs": [],
   "source": [
    "# OS library in python is used to manipulate the Operating System\n",
    "#to remove the file\n",
    "import os\n",
    "os.remove(\"SQL.txt\")"
   ]
  },
  {
   "cell_type": "code",
   "execution_count": 65,
   "id": "32cb405f-e1df-4973-9085-f1bf7328db5c",
   "metadata": {},
   "outputs": [],
   "source": [
    "os.remove(\"Excel.txt\")"
   ]
  },
  {
   "cell_type": "code",
   "execution_count": 66,
   "id": "54695545-d2c9-49f6-8b62-fef8856b7c5c",
   "metadata": {},
   "outputs": [],
   "source": [
    "os.remove(\"PowerBi.txt\")"
   ]
  },
  {
   "cell_type": "code",
   "execution_count": null,
   "id": "6babebd2-a5b2-4ca0-8eee-5dff1069395d",
   "metadata": {},
   "outputs": [],
   "source": []
  }
 ],
 "metadata": {
  "kernelspec": {
   "display_name": "Python [conda env:base] *",
   "language": "python",
   "name": "conda-base-py"
  },
  "language_info": {
   "codemirror_mode": {
    "name": "ipython",
    "version": 3
   },
   "file_extension": ".py",
   "mimetype": "text/x-python",
   "name": "python",
   "nbconvert_exporter": "python",
   "pygments_lexer": "ipython3",
   "version": "3.13.5"
  }
 },
 "nbformat": 4,
 "nbformat_minor": 5
}
