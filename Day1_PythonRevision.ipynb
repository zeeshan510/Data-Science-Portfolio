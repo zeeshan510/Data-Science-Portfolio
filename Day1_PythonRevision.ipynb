{
 "cells": [
  {
   "cell_type": "markdown",
   "id": "0ccdc802-0630-4e0a-8e49-32b2100fa6b0",
   "metadata": {},
   "source": [
    "STRING "
   ]
  },
  {
   "cell_type": "code",
   "execution_count": 11,
   "id": "323f5b42-e9e8-4283-ab84-812a70982151",
   "metadata": {},
   "outputs": [
    {
     "name": "stdout",
     "output_type": "stream",
     "text": [
      "Zeeshan\n",
      "Z\n",
      "Zee\n",
      "ZEESHAN\n",
      "7\n"
     ]
    }
   ],
   "source": [
    "#example \n",
    "name = \"Zeeshan\"\n",
    "print(name)\n",
    "print(name[0])\n",
    "print(name[:3])\n",
    "print(name.upper())\n",
    "print(len(name))"
   ]
  },
  {
   "cell_type": "markdown",
   "id": "84a5e97c-dabd-4556-861b-6b9dbe69b262",
   "metadata": {},
   "source": [
    "INTEGER"
   ]
  },
  {
   "cell_type": "code",
   "execution_count": 16,
   "id": "67f457d7-d5fb-4d77-a386-b37db543a569",
   "metadata": {},
   "outputs": [
    {
     "name": "stdout",
     "output_type": "stream",
     "text": [
      "25\n",
      "-5\n",
      "150\n",
      "1\n"
     ]
    }
   ],
   "source": [
    "#example : int\n",
    "a = 10\n",
    "b = 15\n",
    "print(a+b)\n",
    "print(a-b)\n",
    "print(a*b)\n",
    "print(50%7) # remainder as 1"
   ]
  },
  {
   "cell_type": "markdown",
   "id": "7d3ba014-10fe-4125-8896-9feef0dd13cf",
   "metadata": {},
   "source": [
    "FLOAT"
   ]
  },
  {
   "cell_type": "code",
   "execution_count": 22,
   "id": "6e8853cd-de5b-4698-8c67-70a17f671e81",
   "metadata": {},
   "outputs": [
    {
     "name": "stdout",
     "output_type": "stream",
     "text": [
      "6.28\n",
      "23.020408163265305\n",
      "23\n"
     ]
    }
   ],
   "source": [
    "#example : float\n",
    "pi =3.14\n",
    "height = 1.75\n",
    "weight =70.5\n",
    "bmi = weight/ (height * height)\n",
    "print(pi*2)\n",
    "print(bmi)\n",
    "print(round(bmi))"
   ]
  },
  {
   "cell_type": "markdown",
   "id": "6cd96e21-a328-467e-97bd-b82d83f041a7",
   "metadata": {},
   "source": [
    "BOOLEAN"
   ]
  },
  {
   "cell_type": "code",
   "execution_count": 26,
   "id": "3b48780a-082a-4bf4-8f7d-ea47b7d371af",
   "metadata": {},
   "outputs": [
    {
     "name": "stdout",
     "output_type": "stream",
     "text": [
      "True\n",
      "False\n",
      "False\n",
      "True\n"
     ]
    }
   ],
   "source": [
    "#example : bol\n",
    "is_student = True\n",
    "is_graduated = False\n",
    "print(5 > 3) \n",
    "print(10 == 20)\n",
    "print(bool(0)) \n",
    "print(bool(\"Hi\"))"
   ]
  },
  {
   "cell_type": "code",
   "execution_count": 30,
   "id": "817a6880-9103-4b2f-a0fe-632ee14e2fca",
   "metadata": {},
   "outputs": [
    {
     "name": "stdout",
     "output_type": "stream",
     "text": [
      "Zee\n",
      "PYTHON PROGRAMMING\n",
      "11\n"
     ]
    }
   ],
   "source": [
    "# Q1: Store your name in a variable and print the first 3 letters-------string****\n",
    "name = \"Zeeshan\"\n",
    "print(name[:3])\n",
    "\n",
    "# Q2: Convert \"python programming\" into uppercase\n",
    "text = \"python programming\"\n",
    "print('python programming'.upper())\n",
    "\n",
    "# Q3: Count how many characters are in \"Hello World\"\n",
    "sentence = \"Hello World\"\n",
    "print(len('Hello World'))"
   ]
  },
  {
   "cell_type": "code",
   "execution_count": 37,
   "id": "9ab2985b-c180-45a0-b980-7f4aa2786659",
   "metadata": {},
   "outputs": [
    {
     "name": "stdout",
     "output_type": "stream",
     "text": [
      "30\n",
      "-10\n",
      "200\n",
      "odd\n",
      "1\n"
     ]
    }
   ],
   "source": [
    "# Q4: Create variables a=10, b=20. Print sum, difference, product----integer***\n",
    "a = 10\n",
    "b = 20\n",
    "print(a+b)\n",
    "print(a-b)\n",
    "print(a*b)\n",
    "\n",
    "# Q5: Check if a number is even or odd\n",
    "num = 17\n",
    "if num % 2 ==0:\n",
    "    print(\"even\")\n",
    "else:\n",
    "    print(\"odd\")\n",
    "\n",
    "# Q6: Find remainder when 50 is divided by 7\n",
    "result = 50 % 7\n",
    "print(result)"
   ]
  },
  {
   "cell_type": "markdown",
   "id": "2e8c1800-7896-47c3-871c-b552be668e7e",
   "metadata": {},
   "source": [
    "FLOAT"
   ]
  },
  {
   "cell_type": "code",
   "execution_count": 44,
   "id": "0f2da35a-e043-4e9d-822f-e02ae53e4e77",
   "metadata": {},
   "outputs": [
    {
     "name": "stdout",
     "output_type": "stream",
     "text": [
      "22.857142857142858\n",
      "23\n",
      "6.3\n"
     ]
    }
   ],
   "source": [
    "# Q7: Store your height (m) and weight (kg). Calculate BMI---float\n",
    "height = 1.75\n",
    "weight = 70\n",
    "bmi= weight/(height*height)\n",
    "print(bmi)\n",
    "print(round(bmi))\n",
    "\n",
    "# Q8: Add 3.5 and 2.8\n",
    "result = 3.5 + 2.8\n",
    "print(result)"
   ]
  },
  {
   "cell_type": "markdown",
   "id": "39939519-b5b1-4733-995b-eaef3b1405bf",
   "metadata": {},
   "source": [
    "BOOLEAN"
   ]
  },
  {
   "cell_type": "code",
   "execution_count": 46,
   "id": "86163832-486b-489d-bf83-3c2856f07df0",
   "metadata": {},
   "outputs": [
    {
     "name": "stdout",
     "output_type": "stream",
     "text": [
      "False\n",
      "True\n"
     ]
    }
   ],
   "source": [
    "# Q9: Check if age is greater than 18\n",
    "age = 16\n",
    "print(age>18)\n",
    "# Q10: Check if 100 is equal to 10*10\n",
    "print(100 == 10*10)"
   ]
  },
  {
   "cell_type": "code",
   "execution_count": 52,
   "id": "8714ab4d-1614-4a9d-af09-300d675c68cb",
   "metadata": {},
   "outputs": [
    {
     "name": "stdin",
     "output_type": "stream",
     "text": [
      "Enter your name: zeeshan\n"
     ]
    },
    {
     "name": "stdout",
     "output_type": "stream",
     "text": [
      "Hello, zeeshan! welcome to python.\n"
     ]
    }
   ],
   "source": [
    "name = input(\"Enter your name:\")\n",
    "print(\"Hello,\" ,name + \"! welcome to python.\")"
   ]
  },
  {
   "cell_type": "markdown",
   "id": "7b3847f7-0b4d-48af-b039-516e031a9fd4",
   "metadata": {},
   "source": [
    "VARIABLE"
   ]
  },
  {
   "cell_type": "code",
   "execution_count": 53,
   "id": "27995f06-993f-4c9c-a7a5-9394c2631d33",
   "metadata": {},
   "outputs": [
    {
     "name": "stdout",
     "output_type": "stream",
     "text": [
      "Zeeshan 25 1.75 True\n"
     ]
    }
   ],
   "source": [
    "name = \"Zeeshan\"   # string variable\n",
    "age = 25           # integer variable\n",
    "height = 1.75      # float variable\n",
    "is_student = True  # boolean variable\n",
    "\n",
    "print(name, age, height, is_student)"
   ]
  },
  {
   "cell_type": "markdown",
   "id": "1f6492c7-1feb-4345-a12e-741329182983",
   "metadata": {},
   "source": [
    "CASTING (TYPE CONVERSION)"
   ]
  },
  {
   "cell_type": "code",
   "execution_count": 54,
   "id": "15bea382-319c-4d8e-b5ee-95be0713f0f3",
   "metadata": {},
   "outputs": [
    {
     "name": "stdout",
     "output_type": "stream",
     "text": [
      "10.0\n",
      "9\n",
      "100\n",
      "60\n"
     ]
    }
   ],
   "source": [
    "# Convert int → float\n",
    "x = 10\n",
    "y = float(x)\n",
    "print(y)        # 10.0\n",
    "\n",
    "# Convert float → int\n",
    "z = 9.8\n",
    "print(int(z))   # 9\n",
    "\n",
    "# Convert number → string\n",
    "num = 100\n",
    "print(str(num))  # \"100\"\n",
    "\n",
    "# Convert string → int\n",
    "s = \"50\"\n",
    "print(int(s) + 10)  # 60\n"
   ]
  },
  {
   "cell_type": "markdown",
   "id": "846ddc62-7a2c-4370-b9aa-6535e4badbc8",
   "metadata": {},
   "source": [
    "Operators In Python"
   ]
  },
  {
   "cell_type": "code",
   "execution_count": 55,
   "id": "7b219f7f-36b0-4466-b04c-cc6340fc3141",
   "metadata": {},
   "outputs": [],
   "source": [
    "# Sales Data\n",
    "sales2020 = 35000\n",
    "sales2021 = 65000\n",
    "sales2022 = 55000"
   ]
  },
  {
   "cell_type": "code",
   "execution_count": 56,
   "id": "aab9aa01-e148-4037-8715-500aaeef3d65",
   "metadata": {},
   "outputs": [
    {
     "name": "stdout",
     "output_type": "stream",
     "text": [
      "155000\n"
     ]
    }
   ],
   "source": [
    "#to get total sale\n",
    "total_sales= sales2020+ sales2021+sales2022\n",
    "print(total_sales)"
   ]
  },
  {
   "cell_type": "code",
   "execution_count": 57,
   "id": "1458a122-2e02-4d35-ab99-b1df779349c4",
   "metadata": {},
   "outputs": [],
   "source": [
    "product = \"Iphone\"\n",
    "qty = 32\n",
    "customer_pur = 2"
   ]
  },
  {
   "cell_type": "code",
   "execution_count": 58,
   "id": "46ab09cc-66a2-48f3-9206-ffd7ebd6bab5",
   "metadata": {},
   "outputs": [
    {
     "name": "stdout",
     "output_type": "stream",
     "text": [
      "32\n"
     ]
    }
   ],
   "source": [
    "print(qty)"
   ]
  },
  {
   "cell_type": "code",
   "execution_count": 59,
   "id": "d0a12609-ee7c-4ce7-a8be-201c30ae366b",
   "metadata": {},
   "outputs": [
    {
     "name": "stdout",
     "output_type": "stream",
     "text": [
      "-30\n"
     ]
    }
   ],
   "source": [
    "qty= customer_pur - qty\n",
    "print(qty)"
   ]
  },
  {
   "cell_type": "code",
   "execution_count": 62,
   "id": "9ec6b541-9ab5-4fd2-9ef5-09aa7542099b",
   "metadata": {},
   "outputs": [
    {
     "name": "stdout",
     "output_type": "stream",
     "text": [
      "55000\n",
      "155000\n"
     ]
    }
   ],
   "source": [
    "#to get sales percentage of year 2022\n",
    "print(sales2022)\n",
    "print(total_sales)"
   ]
  },
  {
   "cell_type": "code",
   "execution_count": 63,
   "id": "a8c2bafe-f7f4-458c-ac81-554b6e031953",
   "metadata": {},
   "outputs": [
    {
     "name": "stdout",
     "output_type": "stream",
     "text": [
      "35.483870967741936\n"
     ]
    }
   ],
   "source": [
    "# percentage formula \n",
    "# obtain / total * 100\n",
    "\n",
    "print((sales2022 / total_sales) * 100)"
   ]
  },
  {
   "cell_type": "code",
   "execution_count": 66,
   "id": "e7a2bca5-90eb-434b-9f55-09e6094278d1",
   "metadata": {},
   "outputs": [
    {
     "name": "stdout",
     "output_type": "stream",
     "text": [
      "35 %\n"
     ]
    }
   ],
   "source": [
    "ratio2022 = round((sales2022 / total_sales) * 100)\n",
    "print(ratio2022,\"%\")"
   ]
  },
  {
   "cell_type": "code",
   "execution_count": 70,
   "id": "ce28cb9d-4fb9-468c-a24e-2b832e06c6b1",
   "metadata": {},
   "outputs": [
    {
     "name": "stdin",
     "output_type": "stream",
     "text": [
      "Enter Number: 10\n",
      "Enter Number: 10\n"
     ]
    },
    {
     "name": "stdout",
     "output_type": "stream",
     "text": [
      "True\n"
     ]
    }
   ],
   "source": [
    "#creating a program which compare two values\n",
    "val1 = int(input(\"Enter Number:\"))\n",
    "val2 = int(input(\"Enter Number:\"))\n",
    "print (val1==val2)"
   ]
  },
  {
   "cell_type": "markdown",
   "id": "ec84f9ef-6685-4269-bcab-38114a54f3d1",
   "metadata": {},
   "source": [
    "\"\"\"1. Logical Operators\n",
    "\n",
    "Logical operators are used with boolean values (True/False) to combine conditions.\n",
    "\n",
    "and → True if both conditions are true\n",
    "\n",
    "or → True if at least one condition is true\n",
    "\n",
    "not → reverses the result (True → False, False → True)\"\"\""
   ]
  },
  {
   "cell_type": "code",
   "execution_count": 71,
   "id": "83632937-54ee-4737-abd0-df8ed25f81a1",
   "metadata": {},
   "outputs": [
    {
     "name": "stdout",
     "output_type": "stream",
     "text": [
      "True\n",
      "True\n",
      "False\n"
     ]
    }
   ],
   "source": [
    "#example\n",
    "x = 10\n",
    "y = 20\n",
    "\n",
    "print(x > 5 and y > 15)   # True (both are true)\n",
    "print(x > 15 or y > 15)   # True (second is true)\n",
    "print(not(x > 5))         # False (because x>5 is True)"
   ]
  },
  {
   "cell_type": "markdown",
   "id": "5f031151-682b-4ed9-87f9-d99625e9810b",
   "metadata": {},
   "source": [
    "2. String Functions\n",
    "\n",
    "Python has many built-in functions for strings."
   ]
  },
  {
   "cell_type": "code",
   "execution_count": 72,
   "id": "7d458911-8067-4159-99f4-093b745c8bf0",
   "metadata": {},
   "outputs": [
    {
     "name": "stdout",
     "output_type": "stream",
     "text": [
      "  python programming  \n",
      "  PYTHON PROGRAMMING  \n",
      "Python Programming\n",
      "  Java Programming  \n",
      "['Python', 'Programming']\n",
      "22\n",
      "False\n",
      "True\n",
      "12\n"
     ]
    }
   ],
   "source": [
    "#example\n",
    "text = \"  Python Programming  \"\n",
    "\n",
    "print(text.lower())      # \"  python programming  \"\n",
    "print(text.upper())      # \"  PYTHON PROGRAMMING  \"\n",
    "print(text.strip())      # \"Python Programming\" (removes spaces)\n",
    "print(text.replace(\"Python\", \"Java\"))   # \"  Java Programming  \"\n",
    "print(text.split())      # ['Python', 'Programming']\n",
    "print(len(text))         # 22 (includes spaces)\n",
    "print(text.startswith(\"Py\")) # False (because of spaces at start)\n",
    "print(text.strip().startswith(\"Py\"))    # True\n",
    "print(text.find(\"gram\"))  # 12 (index of substring)"
   ]
  },
  {
   "cell_type": "markdown",
   "id": "0bc77db4-90e9-428f-90fe-61c51f201265",
   "metadata": {},
   "source": [
    "3. Membership Operators\n",
    "\n",
    "Used to check if a value (like character or substring) exists in a string, list, or other sequences.\n",
    "\n",
    "in → returns True if value exists\n",
    "\n",
    "not in → returns True if value does not exist"
   ]
  },
  {
   "cell_type": "code",
   "execution_count": 73,
   "id": "5dc529f7-4c33-4d59-b8f5-578f73fca23e",
   "metadata": {},
   "outputs": [
    {
     "name": "stdout",
     "output_type": "stream",
     "text": [
      "True\n",
      "False\n",
      "True\n"
     ]
    }
   ],
   "source": [
    "#example\n",
    "sentence = \"I am learning Python\"\n",
    "\n",
    "print(\"Python\" in sentence)      # True\n",
    "print(\"Java\" in sentence)        # False\n",
    "print(\"Java\" not in sentence)    # True"
   ]
  },
  {
   "cell_type": "code",
   "execution_count": 74,
   "id": "f7f99ef8-6349-4b2a-972e-55aa334d0eae",
   "metadata": {},
   "outputs": [],
   "source": [
    "# types of Data Structures\n",
    "# 1) List\n",
    "# 2) Tuple\n",
    "# 3) Set\n",
    "# 4) Dictonary"
   ]
  },
  {
   "cell_type": "code",
   "execution_count": 75,
   "id": "c15856bb-98d7-41eb-9f71-496d8e0b2286",
   "metadata": {},
   "outputs": [
    {
     "name": "stdout",
     "output_type": "stream",
     "text": [
      "[1001, 'Headphone', 45, 67.8, 'Boat']\n"
     ]
    }
   ],
   "source": [
    "#example for list\n",
    "shop = [1001,\"Headphone\",45,67.8,\"Boat\"]\n",
    "print(shop)"
   ]
  },
  {
   "cell_type": "code",
   "execution_count": 76,
   "id": "2f695486-1444-4d3d-8b84-3e239ece7ccc",
   "metadata": {},
   "outputs": [
    {
     "data": {
      "text/plain": [
       "list"
      ]
     },
     "execution_count": 76,
     "metadata": {},
     "output_type": "execute_result"
    }
   ],
   "source": [
    "type(shop)"
   ]
  },
  {
   "cell_type": "code",
   "execution_count": 77,
   "id": "f77b35b1-092e-4120-ad87-c98548a03867",
   "metadata": {},
   "outputs": [],
   "source": [
    "# Empty List\n",
    "names = []"
   ]
  },
  {
   "cell_type": "code",
   "execution_count": 78,
   "id": "929bcea9-3830-40dd-9922-20e370d222ff",
   "metadata": {},
   "outputs": [
    {
     "name": "stdout",
     "output_type": "stream",
     "text": [
      "[]\n"
     ]
    }
   ],
   "source": [
    "print(names)"
   ]
  },
  {
   "cell_type": "code",
   "execution_count": 79,
   "id": "4ec50342-3f53-4f57-b05c-9fd4e221abea",
   "metadata": {},
   "outputs": [
    {
     "name": "stdout",
     "output_type": "stream",
     "text": [
      "apple\n",
      "banana\n",
      "cherry\n"
     ]
    }
   ],
   "source": [
    "fruits = [\"apple\", \"banana\", \"cherry\"]\n",
    "\n",
    "print(fruits[0])   # apple\n",
    "print(fruits[1])   # banana\n",
    "print(fruits[-1])  # cherry (last item)"
   ]
  },
  {
   "cell_type": "code",
   "execution_count": 80,
   "id": "bf660a42-91d5-451a-9ccc-bb4b0828c89b",
   "metadata": {},
   "outputs": [
    {
     "name": "stdout",
     "output_type": "stream",
     "text": [
      "['apple', 'mango', 'cherry']\n"
     ]
    }
   ],
   "source": [
    "#changing list items\n",
    "fruits = [\"apple\", \"banana\", \"cherry\"]\n",
    "fruits[1] = \"mango\"\n",
    "print(fruits)   # ['apple', 'mango', 'cherry']\n"
   ]
  },
  {
   "cell_type": "code",
   "execution_count": 81,
   "id": "9b41da35-4d82-4764-8029-dda09f404ffb",
   "metadata": {},
   "outputs": [
    {
     "name": "stdout",
     "output_type": "stream",
     "text": [
      "['apple', 'banana', 'cherry']\n",
      "['apple', 'mango', 'banana', 'cherry']\n"
     ]
    }
   ],
   "source": [
    "#adding items\n",
    "fruits = [\"apple\", \"banana\"]\n",
    "fruits.append(\"cherry\")       # Add at end\n",
    "print(fruits)  # ['apple', 'banana', 'cherry']\n",
    "\n",
    "fruits.insert(1, \"mango\")     # Insert at index 1\n",
    "print(fruits)  # ['apple', 'mango', 'banana', 'cherry']\n"
   ]
  },
  {
   "cell_type": "code",
   "execution_count": 82,
   "id": "c840df44-6860-43e9-b79c-ad50737ea9db",
   "metadata": {},
   "outputs": [
    {
     "name": "stdout",
     "output_type": "stream",
     "text": [
      "['apple', 'cherry']\n",
      "['apple']\n",
      "[]\n"
     ]
    }
   ],
   "source": [
    "#removing items\n",
    "fruits = [\"apple\", \"banana\", \"cherry\"]\n",
    "\n",
    "fruits.remove(\"banana\")   # Remove by value\n",
    "print(fruits)  # ['apple', 'cherry']\n",
    "\n",
    "fruits.pop()   # Removes last item\n",
    "print(fruits)  # ['apple']\n",
    "\n",
    "fruits.pop(0)  # Removes item at index 0\n",
    "print(fruits)  # []\n"
   ]
  },
  {
   "cell_type": "code",
   "execution_count": 83,
   "id": "8110179b-acb3-490a-8191-9e5e8387b26e",
   "metadata": {},
   "outputs": [
    {
     "name": "stdout",
     "output_type": "stream",
     "text": [
      "4\n",
      "40\n",
      "10\n",
      "100\n"
     ]
    }
   ],
   "source": [
    "#list functions \n",
    "numbers = [10, 20, 30, 40]\n",
    "\n",
    "print(len(numbers))       # 4 (length)\n",
    "print(max(numbers))       # 40 (largest value)\n",
    "print(min(numbers))       # 10 (smallest value)\n",
    "print(sum(numbers))       # 100 (sum of all values)\n"
   ]
  },
  {
   "cell_type": "code",
   "execution_count": 84,
   "id": "903feaba-5b77-451f-ab78-be2bc376dd84",
   "metadata": {},
   "outputs": [
    {
     "name": "stdout",
     "output_type": "stream",
     "text": [
      "[10, 20, 30, 40]\n",
      "[40, 30, 20, 10]\n",
      "[10, 20, 30, 40]\n",
      "[10, 20, 30, 40, 50, 60, 70]\n"
     ]
    }
   ],
   "source": [
    "#list methods\n",
    "numbers = [10, 30, 20, 40]\n",
    "\n",
    "numbers.sort()            # Ascending\n",
    "print(numbers)            # [10, 20, 30, 40]\n",
    "\n",
    "numbers.sort(reverse=True) # Descending\n",
    "print(numbers)            # [40, 30, 20, 10]\n",
    "\n",
    "numbers.reverse()          # Reverse order\n",
    "print(numbers)            # [10, 20, 30, 40] → [40, 30, 20, 10]\n",
    "\n",
    "numbers.append(50)         # Add at end\n",
    "numbers.extend([60, 70])   # Add multiple\n",
    "print(numbers)             # [40, 30, 20, 10, 50, 60, 70]\n"
   ]
  },
  {
   "cell_type": "code",
   "execution_count": 85,
   "id": "9ecb66e2-2976-4119-b2d1-154833664e3b",
   "metadata": {},
   "outputs": [
    {
     "name": "stdout",
     "output_type": "stream",
     "text": [
      "apple\n",
      "banana\n",
      "cherry\n"
     ]
    }
   ],
   "source": [
    "#looping through list\n",
    "fruits = [\"apple\", \"banana\", \"cherry\"]\n",
    "\n",
    "for fruit in fruits:\n",
    "    print(fruit)\n"
   ]
  },
  {
   "cell_type": "code",
   "execution_count": 86,
   "id": "8de22f7b-fe60-4557-afdc-c7cc97026573",
   "metadata": {},
   "outputs": [
    {
     "name": "stdout",
     "output_type": "stream",
     "text": [
      "[1, 2, 3]\n",
      "2\n",
      "c\n"
     ]
    }
   ],
   "source": [
    "#nested list(list inside list)\n",
    "nested = [[1, 2, 3], [\"a\", \"b\", \"c\"]]\n",
    "print(nested[0])      # [1, 2, 3]\n",
    "print(nested[0][1])   # 2\n",
    "print(nested[1][2])   # c\n"
   ]
  },
  {
   "cell_type": "code",
   "execution_count": 87,
   "id": "69094d35-ac79-47de-a37e-5558a7d046a4",
   "metadata": {},
   "outputs": [],
   "source": [
    "# Tuple is a data structure of Python which is used to store data\n",
    "# Tuple Features\n",
    "# Tuple can store any kind data\n",
    "# Tuple items are enclosed with in round brackets(string, int, float, boolean)\n",
    "# Tuple is Immutable(Unchangable)\n",
    "# Tuple is Ordered\n",
    "# Tuple is Indexble"
   ]
  },
  {
   "cell_type": "code",
   "execution_count": 88,
   "id": "a3bc893d-800a-417e-9a3a-53ee23cb8939",
   "metadata": {},
   "outputs": [
    {
     "name": "stdout",
     "output_type": "stream",
     "text": [
      "('LV', 'Gucci', 'Armani', 'Addidas', 'Nike')\n"
     ]
    }
   ],
   "source": [
    "# Example\n",
    "data = (\"LV\",\"Gucci\",\"Armani\",'Addidas',\"Nike\")\n",
    "print(data)"
   ]
  },
  {
   "cell_type": "code",
   "execution_count": 89,
   "id": "8eb65484-f647-4821-b625-b7b429be0887",
   "metadata": {},
   "outputs": [
    {
     "data": {
      "text/plain": [
       "tuple"
      ]
     },
     "execution_count": 89,
     "metadata": {},
     "output_type": "execute_result"
    }
   ],
   "source": [
    "type(data)"
   ]
  },
  {
   "cell_type": "code",
   "execution_count": 90,
   "id": "1b7c0352-2d59-4268-93d0-3a9c85526673",
   "metadata": {},
   "outputs": [
    {
     "data": {
      "text/plain": [
       "list"
      ]
     },
     "execution_count": 90,
     "metadata": {},
     "output_type": "execute_result"
    }
   ],
   "source": [
    "# converting tuple into list to add an item\n",
    "data_list = list(data)\n",
    "type(data_list)"
   ]
  },
  {
   "cell_type": "code",
   "execution_count": 91,
   "id": "ea557153-af92-4393-97d2-f3c8e4e0a1e0",
   "metadata": {},
   "outputs": [
    {
     "name": "stdout",
     "output_type": "stream",
     "text": [
      "['LV', 'Gucci', 'Armani', 'Addidas', 'Nike']\n"
     ]
    }
   ],
   "source": [
    "print(data_list)"
   ]
  },
  {
   "cell_type": "code",
   "execution_count": 92,
   "id": "832989b6-6a6c-4b11-ab0b-fffd926bb9bb",
   "metadata": {},
   "outputs": [],
   "source": [
    "data_list.append(\"Fila\")\n",
    "data_list.append(\"Lenovo\")"
   ]
  },
  {
   "cell_type": "code",
   "execution_count": 93,
   "id": "ffcb39b2-45d0-49aa-87a0-f56c67ede880",
   "metadata": {},
   "outputs": [
    {
     "name": "stdout",
     "output_type": "stream",
     "text": [
      "['LV', 'Gucci', 'Armani', 'Addidas', 'Nike', 'Fila', 'Lenovo']\n"
     ]
    }
   ],
   "source": [
    "print(data_list)"
   ]
  },
  {
   "cell_type": "code",
   "execution_count": 94,
   "id": "15767e73-2796-4451-b860-a47111fda057",
   "metadata": {},
   "outputs": [
    {
     "name": "stdout",
     "output_type": "stream",
     "text": [
      "AX\n"
     ]
    }
   ],
   "source": [
    "for i in data:\n",
    "    if i == \"Armani\":\n",
    "        print(i.replace(\"Armani\",\"AX\"))"
   ]
  },
  {
   "cell_type": "code",
   "execution_count": 95,
   "id": "deef5198-7d10-4817-aa6e-04e49163e405",
   "metadata": {},
   "outputs": [
    {
     "data": {
      "text/plain": [
       "['LV', 'Gucci', 'Armani', 'Addidas', 'Nike', 'Fila', 'Lenovo']"
      ]
     },
     "execution_count": 95,
     "metadata": {},
     "output_type": "execute_result"
    }
   ],
   "source": [
    "data_list"
   ]
  },
  {
   "cell_type": "code",
   "execution_count": 96,
   "id": "e8e18b96-4ae5-4638-93bc-49007d6b65ef",
   "metadata": {},
   "outputs": [],
   "source": [
    "# Dictonary is a data structure of python which is used to store data in Key:Value format\n",
    "# Dictonary Features\n",
    "# Dictonary items are enclosed with in flower brackets {str:string,int:integer,bool:boolean}\n",
    "# Dictonary doesnot allow duplicate keys\n",
    "# Dictonary data structure is also called JSON file format"
   ]
  },
  {
   "cell_type": "code",
   "execution_count": 97,
   "id": "052f4aff-14ff-4e48-89df-c11650de2ae5",
   "metadata": {},
   "outputs": [],
   "source": [
    "student_info = {\n",
    "    \"StudentID\":1001,\n",
    "    \"Name\":\"Syed Adnan\",\n",
    "    \"Age\":22,\n",
    "    \"Gender\":\"Male\",\n",
    "    \"Address\":\"Hyderabad\"\n",
    "}"
   ]
  },
  {
   "cell_type": "code",
   "execution_count": 98,
   "id": "90419303-7a5a-41f6-a124-931521e59447",
   "metadata": {},
   "outputs": [
    {
     "name": "stdout",
     "output_type": "stream",
     "text": [
      "{'StudentID': 1001, 'Name': 'Syed Adnan', 'Age': 22, 'Gender': 'Male', 'Address': 'Hyderabad'}\n"
     ]
    }
   ],
   "source": [
    "print(student_info)"
   ]
  },
  {
   "cell_type": "code",
   "execution_count": 99,
   "id": "5eb5734e-9ae0-4cfd-bc3c-8c12f1df4027",
   "metadata": {},
   "outputs": [
    {
     "name": "stdout",
     "output_type": "stream",
     "text": [
      "{'StudentID': 1001, 'Name': 'Syed Adnan', 'Age': 22, 'Gender': 'Male', 'Address': 'Hyderabad', 'Email': 'adnan@gmail.com'}\n"
     ]
    }
   ],
   "source": [
    "# update method is used to add a new Key:Value or update a key:Value\n",
    "student_info.update({\"Email\":\"adnan@gmail.com\"})\n",
    "print(student_info)"
   ]
  },
  {
   "cell_type": "code",
   "execution_count": 100,
   "id": "6abfd10b-9484-4ac4-b759-929a09e25230",
   "metadata": {},
   "outputs": [],
   "source": [
    "student_info.update({\"Age\":20})"
   ]
  },
  {
   "cell_type": "code",
   "execution_count": 101,
   "id": "8138db5f-7508-4d47-aea9-bda0e8f17ca7",
   "metadata": {},
   "outputs": [
    {
     "name": "stdout",
     "output_type": "stream",
     "text": [
      "{'StudentID': 1001, 'Name': 'Syed Adnan', 'Age': 20, 'Gender': 'Male', 'Address': 'Hyderabad', 'Email': 'adnan@gmail.com'}\n"
     ]
    }
   ],
   "source": [
    "print(student_info)"
   ]
  },
  {
   "cell_type": "code",
   "execution_count": 102,
   "id": "6f1b4c52-5646-4f2a-9a8e-284a4b956742",
   "metadata": {},
   "outputs": [
    {
     "name": "stdout",
     "output_type": "stream",
     "text": [
      "{'StudentID': 1001, 'Name': 'Syed Rahman', 'Age': 20, 'Gender': 'Male', 'Address': 'Hyderabad', 'Email': 'adnan@gmail.com'}\n"
     ]
    }
   ],
   "source": [
    "student_info[\"Name\"] = \"Syed Rahman\"\n",
    "print(student_info)"
   ]
  },
  {
   "cell_type": "code",
   "execution_count": 103,
   "id": "724214b6-480c-4d51-9b4f-5374e83f7f49",
   "metadata": {},
   "outputs": [
    {
     "data": {
      "text/plain": [
       "dict_keys(['StudentID', 'Name', 'Age', 'Gender', 'Address', 'Email'])"
      ]
     },
     "execution_count": 103,
     "metadata": {},
     "output_type": "execute_result"
    }
   ],
   "source": [
    "# to get only the keys\n",
    "student_info.keys()"
   ]
  },
  {
   "cell_type": "code",
   "execution_count": 104,
   "id": "2c870e45-4a31-4f26-98f7-4738bc303228",
   "metadata": {},
   "outputs": [
    {
     "data": {
      "text/plain": [
       "dict_values([1001, 'Syed Rahman', 20, 'Male', 'Hyderabad', 'adnan@gmail.com'])"
      ]
     },
     "execution_count": 104,
     "metadata": {},
     "output_type": "execute_result"
    }
   ],
   "source": [
    "# to get only the values\n",
    "student_info.values()"
   ]
  },
  {
   "cell_type": "code",
   "execution_count": 105,
   "id": "0246afbd-a499-4978-9393-e8a1c0a6be5e",
   "metadata": {},
   "outputs": [
    {
     "name": "stdout",
     "output_type": "stream",
     "text": [
      "StudentID\n",
      "Name\n",
      "Age\n",
      "Gender\n",
      "Address\n",
      "Email\n"
     ]
    }
   ],
   "source": [
    "for i in student_info.keys():\n",
    "    print(i)"
   ]
  },
  {
   "cell_type": "code",
   "execution_count": 106,
   "id": "c51a7f33-6a0b-499c-9f00-1cb25dacada3",
   "metadata": {},
   "outputs": [
    {
     "data": {
      "text/plain": [
       "'adnan@gmail.com'"
      ]
     },
     "execution_count": 106,
     "metadata": {},
     "output_type": "execute_result"
    }
   ],
   "source": [
    "# To get the sepecific value of the key\n",
    "student_info.get(\"Email\")"
   ]
  },
  {
   "cell_type": "code",
   "execution_count": 107,
   "id": "008831c2-4bea-47ad-854c-43c9eb340c44",
   "metadata": {},
   "outputs": [],
   "source": [
    "bio = {\n",
    "    \"Names\":[\"Rahman\",'Adnan','Junaid',\"Siddiq\",\"Imtiyaz\"],\n",
    "    \"Age\":[24,22,23,25,23]\n",
    "}"
   ]
  },
  {
   "cell_type": "code",
   "execution_count": 108,
   "id": "da0f8e0d-c14c-4c24-a41a-544095e9da04",
   "metadata": {},
   "outputs": [
    {
     "name": "stdout",
     "output_type": "stream",
     "text": [
      "{'Names': ['Rahman', 'Adnan', 'Junaid', 'Siddiq', 'Imtiyaz'], 'Age': [24, 22, 23, 25, 23]}\n"
     ]
    }
   ],
   "source": [
    "print(bio)"
   ]
  },
  {
   "cell_type": "code",
   "execution_count": 109,
   "id": "675da923-2d17-400d-bf7d-c4e72483ee68",
   "metadata": {},
   "outputs": [
    {
     "data": {
      "text/plain": [
       "['Rahman', 'Adnan', 'Junaid', 'Siddiq', 'Imtiyaz']"
      ]
     },
     "execution_count": 109,
     "metadata": {},
     "output_type": "execute_result"
    }
   ],
   "source": [
    "bio.get(\"Names\")"
   ]
  },
  {
   "cell_type": "code",
   "execution_count": 110,
   "id": "ae333184-a6b8-4f0f-be2b-a6ae5acb0363",
   "metadata": {},
   "outputs": [
    {
     "data": {
      "text/plain": [
       "True"
      ]
     },
     "execution_count": 110,
     "metadata": {},
     "output_type": "execute_result"
    }
   ],
   "source": [
    "\"Rahman\" in bio.get(\"Names\")"
   ]
  },
  {
   "cell_type": "code",
   "execution_count": 114,
   "id": "0c53be57-cf57-4e62-ba1e-9f0d1ce093e9",
   "metadata": {},
   "outputs": [
    {
     "name": "stdout",
     "output_type": "stream",
     "text": [
      "2\n"
     ]
    }
   ],
   "source": [
    "for i in bio.get(\"Names\"):\n",
    "    if i == \"Junaid\":\n",
    "        ind = bio.get(\"Names\").index(i)\n",
    "        print(ind)"
   ]
  },
  {
   "cell_type": "code",
   "execution_count": 115,
   "id": "08d52ab3-5cc0-4c95-b39e-aea353c8cfcb",
   "metadata": {},
   "outputs": [
    {
     "name": "stdout",
     "output_type": "stream",
     "text": [
      "{'Names': ['Rahman', 'Adnan', 'Junaid', 'Priya', 'Imtiyaz'], 'Age': [24, 22, 23, 25, 23]}\n"
     ]
    }
   ],
   "source": [
    "for i in bio.get(\"Names\"):\n",
    "    if i == \"Siddiq\":\n",
    "        ind = bio.get(\"Names\").index(i)\n",
    "        bio.get(\"Names\")[ind] = \"Priya\"\n",
    "print(bio)"
   ]
  },
  {
   "cell_type": "code",
   "execution_count": null,
   "id": "48432c3a-52a5-4b18-85dc-a1712b234dce",
   "metadata": {},
   "outputs": [],
   "source": []
  }
 ],
 "metadata": {
  "kernelspec": {
   "display_name": "Python [conda env:base] *",
   "language": "python",
   "name": "conda-base-py"
  },
  "language_info": {
   "codemirror_mode": {
    "name": "ipython",
    "version": 3
   },
   "file_extension": ".py",
   "mimetype": "text/x-python",
   "name": "python",
   "nbconvert_exporter": "python",
   "pygments_lexer": "ipython3",
   "version": "3.13.5"
  }
 },
 "nbformat": 4,
 "nbformat_minor": 5
}
